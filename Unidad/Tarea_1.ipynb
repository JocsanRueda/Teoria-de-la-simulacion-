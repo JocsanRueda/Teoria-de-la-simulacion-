{
 "cells": [
  {
   "cell_type": "markdown",
   "id": "a46c9bf9-6769-4561-87a9-5703df15ec9d",
   "metadata": {},
   "source": [
    "# Tarea: Construcción de DataFrames y Análisis Estadístico con Pandas"
   ]
  },
  {
   "cell_type": "markdown",
   "id": "bc0d4c0a-9701-40d4-babb-fea5e94b03a5",
   "metadata": {},
   "source": [
    "## Análisis de Variables de servicios Militares en la segunda guerra mundial\n",
    "Se exploraran las variables relacionadas con el servicio militar de soldados, proporcionando detalles sobre su ingreso, tiempo de servicio, estado final y edad. Las variables incluidas son:\n",
    "\n",
    "* **edad de ingreso**: Edad a la que el soldado ingresó al servicio militar, variando entre 18 y 40 años.\n",
    "* **fecha de salida**: Fecha aproximada en la que el soldado dejó el ejército, que puede ser entre 2 y 6 años después del ingreso si sobrevivió, o una fecha específica si falleció en acción, cuya fecha estimda pueden ser dias o aproxidamente 2 años.\n",
    "* **fecha_nac**: Fecha de nacimiento del soldado, limitada entre 1900 y 1925.\n",
    "* **fecha_ing**: Fecha de ingreso al servicio militar, restringida al período entre 1939 y 1945.\n",
    "* **estado_final**: Booleano que indica si el soldado falleció (true) o sobrevivió (false).\n",
    "* **tiempo de vida**: Tiempo que el soldado sobrevivió en batalla, relevante solo si el estado_final es true.\n",
    "* **rango**: Rango militar del soldado durante su servicio.\n",
    "\n",
    "Este conjunto de datos proporciona una base para analizar la demografía y la experiencia militar de soldados en un contexto histórico específico, permitiendo investigaciones sobre la edad de reclutamiento, la duración del servicio, y los resultados finales de los soldados en función de su rango y período de servicio."
   ]
  },
  {
   "cell_type": "code",
   "execution_count": 24,
   "id": "de47d87e-d7b9-45b6-8c2f-57814bcfe827",
   "metadata": {},
   "outputs": [],
   "source": [
    "import numpy as np\n",
    "import pandas as pd\n",
    "from datetime import datetime,timedelta\n",
    "import matplotlib.pyplot as plt"
   ]
  },
  {
   "cell_type": "markdown",
   "id": "e0b36f1c-242c-4a24-9b7e-95d9fc224ca9",
   "metadata": {},
   "source": [
    " ## Número de muestras aleatorias"
   ]
  },
  {
   "cell_type": "code",
   "execution_count": 26,
   "id": "fa78190f-19e9-4ce4-bb1f-ca03a138c10b",
   "metadata": {},
   "outputs": [],
   "source": [
    "limite=3000"
   ]
  },
  {
   "cell_type": "markdown",
   "id": "bf184dc0-0503-4214-aa51-f995ace3f6c0",
   "metadata": {},
   "source": [
    "### Funcion que genera fechas aleatorias entre n1 y n2"
   ]
  },
  {
   "cell_type": "code",
   "execution_count": 28,
   "id": "898277e0-d10d-4c93-9485-3143045e143e",
   "metadata": {},
   "outputs": [],
   "source": [
    "def random_date(n1,n2):\n",
    "    inicio = datetime(n1, 1, 1)\n",
    "    final =  datetime(n2, 12, 31)\n",
    "    return (inicio + (final - inicio) *np.random.rand())"
   ]
  },
  {
   "cell_type": "code",
   "execution_count": 42,
   "id": "45ee9205-cf84-4423-abd5-32d4d3b853ab",
   "metadata": {},
   "outputs": [],
   "source": [
    "fecha_nac=[]\n",
    "fecha_ing=[]\n",
    "edad_ingreso=[]\n",
    "fecha_salida=[]\n",
    "\n",
    "estado_final=[]\n",
    "tiempo_vida=[]\n",
    "rango=[]\n",
    "puestos=[ \"Soldado\", \"Cabo\", \"Sargento\", \"Teniente\", \"Capitán\", \"Mayor\",\"Mariscal\"]"
   ]
  },
  {
   "cell_type": "markdown",
   "id": "3f388fa1-1ad2-4ed2-bbb2-f1d527950c45",
   "metadata": {},
   "source": [
    "## Calculo de los datos aleatorios\n",
    "$Edad_{\\text{ingreso}}=Año_{\\text{ingreso}}-Año_{\\text{nacimiento}}$\n",
    "\n",
    "\n",
    "$Fecha_{\\text{salida}}=$ $ \\left\\{ \\begin{array}{lcc} Fecha_{\\text{ingreso}}+k \\hspace{0.2cm} , k\\in [2 \\text{ años}, 7 \\text{ años}] & si & Estado_{\\text{final}} = 1 \\\\ \\\\ Fecha_{\\text{ingreso}}+k \\hspace{0.2cm} , k\\in [0 \\text{ años}, 2 \\text{ años}] & si & Estado_{\\text{final}} = 0\\end{array} \\right.$\n",
    "\n",
    "\n",
    "$Tiempo_{\\text{vida}}=$\n",
    "$ \\left\\{ \\begin{array}{lcc} Fecha_{\\text{salida}}-Fecha_{\\text{ingreso}} & si & Estado_{\\text{final}} = 1 \\\\ \\\\ \\text{NaN} & si & Estado_{\\text{final}} = 0\\end{array} \\right.$"
   ]
  },
  {
   "cell_type": "code",
   "execution_count": 44,
   "id": "a82a4ac4-0664-4df4-8fe6-4c950393cd58",
   "metadata": {},
   "outputs": [],
   "source": [
    "\n",
    "\n",
    "for i in range(limite):\n",
    "    \n",
    "    fecha_nac.append(random_date(1900,1921))\n",
    "    \n",
    "    fecha_ing.append(random_date(1939,1945))\n",
    "    \n",
    "    edad_ingreso.append( int(fecha_ing[i].year-fecha_nac[i].year))\n",
    "    \n",
    "    rango.append(np.random.choice(puestos))\n",
    "    \n",
    "    estado_final.append(np.random.randint(0,2))\n",
    "\n",
    "    if estado_final[i]:\n",
    "        \n",
    "        fecha_salida.append( fecha_ing[i]+timedelta(days=np.random.randint(365*2,365*7)))\n",
    "        \n",
    "        tiempo_vida.append(float('nan'))\n",
    "    else:\n",
    "        fecha_salida.append(fecha_ing[i]+timedelta(days=np.random.randint(10,365*2)))\n",
    "        \n",
    "        tiempo_vida.append(fecha_salida[i]-fecha_ing[i])\n",
    "    \n",
    "    \n"
   ]
  },
  {
   "cell_type": "markdown",
   "id": "449b3ca9-cf96-429b-8500-897bec77b2ba",
   "metadata": {},
   "source": [
    "# Data Frame"
   ]
  },
  {
   "cell_type": "code",
   "execution_count": 46,
   "id": "d39cd3d7-fced-4898-a4a9-7b7d931c68d9",
   "metadata": {},
   "outputs": [
    {
     "data": {
      "text/html": [
       "<div>\n",
       "<style scoped>\n",
       "    .dataframe tbody tr th:only-of-type {\n",
       "        vertical-align: middle;\n",
       "    }\n",
       "\n",
       "    .dataframe tbody tr th {\n",
       "        vertical-align: top;\n",
       "    }\n",
       "\n",
       "    .dataframe thead th {\n",
       "        text-align: right;\n",
       "    }\n",
       "</style>\n",
       "<table border=\"1\" class=\"dataframe\">\n",
       "  <thead>\n",
       "    <tr style=\"text-align: right;\">\n",
       "      <th></th>\n",
       "      <th>Fecha Nac</th>\n",
       "      <th>Fecha Ing</th>\n",
       "      <th>Edad Ing</th>\n",
       "      <th>Rango</th>\n",
       "      <th>Estado Final</th>\n",
       "      <th>Fecha Salida</th>\n",
       "      <th>Tiempo de Vida</th>\n",
       "    </tr>\n",
       "  </thead>\n",
       "  <tbody>\n",
       "    <tr>\n",
       "      <th>0</th>\n",
       "      <td>1902-11-22 15:00:31.437054</td>\n",
       "      <td>1939-08-18 04:35:57.173607</td>\n",
       "      <td>37</td>\n",
       "      <td>Capitán</td>\n",
       "      <td>1</td>\n",
       "      <td>1941-08-26 04:35:57.173607</td>\n",
       "      <td>NaN</td>\n",
       "    </tr>\n",
       "    <tr>\n",
       "      <th>1</th>\n",
       "      <td>1910-11-04 18:02:54.344032</td>\n",
       "      <td>1944-01-15 21:32:35.137741</td>\n",
       "      <td>34</td>\n",
       "      <td>Soldado</td>\n",
       "      <td>0</td>\n",
       "      <td>1944-10-17 21:32:35.137741</td>\n",
       "      <td>276.0</td>\n",
       "    </tr>\n",
       "    <tr>\n",
       "      <th>2</th>\n",
       "      <td>1904-07-27 01:52:51.243249</td>\n",
       "      <td>1943-02-13 15:21:41.646390</td>\n",
       "      <td>39</td>\n",
       "      <td>Mariscal</td>\n",
       "      <td>0</td>\n",
       "      <td>1943-10-07 15:21:41.646390</td>\n",
       "      <td>236.0</td>\n",
       "    </tr>\n",
       "    <tr>\n",
       "      <th>3</th>\n",
       "      <td>1910-04-21 20:11:53.256039</td>\n",
       "      <td>1944-06-07 17:07:58.475461</td>\n",
       "      <td>34</td>\n",
       "      <td>Capitán</td>\n",
       "      <td>1</td>\n",
       "      <td>1950-02-21 17:07:58.475461</td>\n",
       "      <td>NaN</td>\n",
       "    </tr>\n",
       "    <tr>\n",
       "      <th>4</th>\n",
       "      <td>1903-10-09 19:56:53.761860</td>\n",
       "      <td>1945-01-24 01:04:34.375808</td>\n",
       "      <td>42</td>\n",
       "      <td>Soldado</td>\n",
       "      <td>0</td>\n",
       "      <td>1945-05-16 01:04:34.375808</td>\n",
       "      <td>112.0</td>\n",
       "    </tr>\n",
       "    <tr>\n",
       "      <th>...</th>\n",
       "      <td>...</td>\n",
       "      <td>...</td>\n",
       "      <td>...</td>\n",
       "      <td>...</td>\n",
       "      <td>...</td>\n",
       "      <td>...</td>\n",
       "      <td>...</td>\n",
       "    </tr>\n",
       "    <tr>\n",
       "      <th>2995</th>\n",
       "      <td>1903-12-24 01:41:52.053415</td>\n",
       "      <td>1939-08-04 09:14:22.473670</td>\n",
       "      <td>36</td>\n",
       "      <td>Capitán</td>\n",
       "      <td>1</td>\n",
       "      <td>1943-07-06 09:14:22.473670</td>\n",
       "      <td>NaN</td>\n",
       "    </tr>\n",
       "    <tr>\n",
       "      <th>2996</th>\n",
       "      <td>1909-11-14 06:27:34.270014</td>\n",
       "      <td>1939-01-06 09:54:59.653828</td>\n",
       "      <td>30</td>\n",
       "      <td>Teniente</td>\n",
       "      <td>1</td>\n",
       "      <td>1944-12-25 09:54:59.653828</td>\n",
       "      <td>NaN</td>\n",
       "    </tr>\n",
       "    <tr>\n",
       "      <th>2997</th>\n",
       "      <td>1905-01-05 21:13:20.170581</td>\n",
       "      <td>1940-11-13 19:36:42.919887</td>\n",
       "      <td>35</td>\n",
       "      <td>Sargento</td>\n",
       "      <td>1</td>\n",
       "      <td>1944-11-04 19:36:42.919887</td>\n",
       "      <td>NaN</td>\n",
       "    </tr>\n",
       "    <tr>\n",
       "      <th>2998</th>\n",
       "      <td>1902-05-15 04:13:38.374025</td>\n",
       "      <td>1942-01-07 19:40:37.879739</td>\n",
       "      <td>40</td>\n",
       "      <td>Mariscal</td>\n",
       "      <td>0</td>\n",
       "      <td>1943-12-06 19:40:37.879739</td>\n",
       "      <td>698.0</td>\n",
       "    </tr>\n",
       "    <tr>\n",
       "      <th>2999</th>\n",
       "      <td>1913-09-09 00:31:51.634228</td>\n",
       "      <td>1943-07-29 09:34:36.707047</td>\n",
       "      <td>30</td>\n",
       "      <td>Soldado</td>\n",
       "      <td>0</td>\n",
       "      <td>1945-01-04 09:34:36.707047</td>\n",
       "      <td>525.0</td>\n",
       "    </tr>\n",
       "  </tbody>\n",
       "</table>\n",
       "<p>3000 rows × 7 columns</p>\n",
       "</div>"
      ],
      "text/plain": [
       "                      Fecha Nac                  Fecha Ing  Edad Ing  \\\n",
       "0    1902-11-22 15:00:31.437054 1939-08-18 04:35:57.173607        37   \n",
       "1    1910-11-04 18:02:54.344032 1944-01-15 21:32:35.137741        34   \n",
       "2    1904-07-27 01:52:51.243249 1943-02-13 15:21:41.646390        39   \n",
       "3    1910-04-21 20:11:53.256039 1944-06-07 17:07:58.475461        34   \n",
       "4    1903-10-09 19:56:53.761860 1945-01-24 01:04:34.375808        42   \n",
       "...                         ...                        ...       ...   \n",
       "2995 1903-12-24 01:41:52.053415 1939-08-04 09:14:22.473670        36   \n",
       "2996 1909-11-14 06:27:34.270014 1939-01-06 09:54:59.653828        30   \n",
       "2997 1905-01-05 21:13:20.170581 1940-11-13 19:36:42.919887        35   \n",
       "2998 1902-05-15 04:13:38.374025 1942-01-07 19:40:37.879739        40   \n",
       "2999 1913-09-09 00:31:51.634228 1943-07-29 09:34:36.707047        30   \n",
       "\n",
       "         Rango  Estado Final               Fecha Salida  Tiempo de Vida  \n",
       "0      Capitán             1 1941-08-26 04:35:57.173607             NaN  \n",
       "1      Soldado             0 1944-10-17 21:32:35.137741           276.0  \n",
       "2     Mariscal             0 1943-10-07 15:21:41.646390           236.0  \n",
       "3      Capitán             1 1950-02-21 17:07:58.475461             NaN  \n",
       "4      Soldado             0 1945-05-16 01:04:34.375808           112.0  \n",
       "...        ...           ...                        ...             ...  \n",
       "2995   Capitán             1 1943-07-06 09:14:22.473670             NaN  \n",
       "2996  Teniente             1 1944-12-25 09:54:59.653828             NaN  \n",
       "2997  Sargento             1 1944-11-04 19:36:42.919887             NaN  \n",
       "2998  Mariscal             0 1943-12-06 19:40:37.879739           698.0  \n",
       "2999   Soldado             0 1945-01-04 09:34:36.707047           525.0  \n",
       "\n",
       "[3000 rows x 7 columns]"
      ]
     },
     "execution_count": 46,
     "metadata": {},
     "output_type": "execute_result"
    }
   ],
   "source": [
    "datos={\n",
    "    \"Fecha Nac\":fecha_nac,\n",
    "    \"Fecha Ing\":fecha_ing,\n",
    "    \"Edad Ing\":edad_ingreso,\n",
    "    \"Rango\":rango,\n",
    "    \"Estado Final\":estado_final,\n",
    "    \"Fecha Salida\":fecha_salida,\n",
    "    \"Tiempo de Vida\":tiempo_vida,\n",
    "}\n",
    "\n",
    "soldados=pd.DataFrame(datos)\n",
    "#Formatear el tiempo de vida a dias\n",
    "soldados['Tiempo de Vida']=soldados['Tiempo de Vida'] / np.timedelta64(1, 'D')\n",
    "soldados"
   ]
  },
  {
   "cell_type": "code",
   "execution_count": 48,
   "id": "7f72445f-45c4-49db-82c9-8cc515ce03b8",
   "metadata": {},
   "outputs": [
    {
     "data": {
      "text/html": [
       "<div>\n",
       "<style scoped>\n",
       "    .dataframe tbody tr th:only-of-type {\n",
       "        vertical-align: middle;\n",
       "    }\n",
       "\n",
       "    .dataframe tbody tr th {\n",
       "        vertical-align: top;\n",
       "    }\n",
       "\n",
       "    .dataframe thead th {\n",
       "        text-align: right;\n",
       "    }\n",
       "</style>\n",
       "<table border=\"1\" class=\"dataframe\">\n",
       "  <thead>\n",
       "    <tr style=\"text-align: right;\">\n",
       "      <th></th>\n",
       "      <th>Fecha Nac</th>\n",
       "      <th>Fecha Ing</th>\n",
       "      <th>Edad Ing</th>\n",
       "      <th>Estado Final</th>\n",
       "      <th>Fecha Salida</th>\n",
       "      <th>Tiempo de Vida</th>\n",
       "    </tr>\n",
       "  </thead>\n",
       "  <tbody>\n",
       "    <tr>\n",
       "      <th>count</th>\n",
       "      <td>3000</td>\n",
       "      <td>3000</td>\n",
       "      <td>3000.000000</td>\n",
       "      <td>3000.000000</td>\n",
       "      <td>3000</td>\n",
       "      <td>1482.000000</td>\n",
       "    </tr>\n",
       "    <tr>\n",
       "      <th>mean</th>\n",
       "      <td>1911-02-24 16:38:45.679713280</td>\n",
       "      <td>1942-07-05 12:48:12.392354304</td>\n",
       "      <td>31.354667</td>\n",
       "      <td>0.506000</td>\n",
       "      <td>1945-04-23 17:08:21.992354176</td>\n",
       "      <td>375.991228</td>\n",
       "    </tr>\n",
       "    <tr>\n",
       "      <th>min</th>\n",
       "      <td>1900-01-01 17:52:46.841249</td>\n",
       "      <td>1939-01-01 02:19:20.568542</td>\n",
       "      <td>18.000000</td>\n",
       "      <td>0.000000</td>\n",
       "      <td>1939-01-28 11:25:38.975196</td>\n",
       "      <td>10.000000</td>\n",
       "    </tr>\n",
       "    <tr>\n",
       "      <th>25%</th>\n",
       "      <td>1905-08-21 11:37:07.985610240</td>\n",
       "      <td>1940-09-30 09:40:26.841845504</td>\n",
       "      <td>26.000000</td>\n",
       "      <td>0.000000</td>\n",
       "      <td>1943-02-06 20:17:31.110298496</td>\n",
       "      <td>191.250000</td>\n",
       "    </tr>\n",
       "    <tr>\n",
       "      <th>50%</th>\n",
       "      <td>1911-01-18 07:17:02.858473216</td>\n",
       "      <td>1942-07-16 00:26:12.363577088</td>\n",
       "      <td>31.000000</td>\n",
       "      <td>1.000000</td>\n",
       "      <td>1945-04-25 14:05:37.639747968</td>\n",
       "      <td>392.000000</td>\n",
       "    </tr>\n",
       "    <tr>\n",
       "      <th>75%</th>\n",
       "      <td>1916-08-24 02:23:48.343758080</td>\n",
       "      <td>1944-04-12 15:31:29.130606976</td>\n",
       "      <td>37.000000</td>\n",
       "      <td>1.000000</td>\n",
       "      <td>1947-03-15 22:05:05.094432256</td>\n",
       "      <td>556.000000</td>\n",
       "    </tr>\n",
       "    <tr>\n",
       "      <th>max</th>\n",
       "      <td>1921-12-28 17:13:28.122179</td>\n",
       "      <td>1945-12-30 15:14:17.882677</td>\n",
       "      <td>45.000000</td>\n",
       "      <td>1.000000</td>\n",
       "      <td>1952-09-13 21:31:50.905551</td>\n",
       "      <td>729.000000</td>\n",
       "    </tr>\n",
       "    <tr>\n",
       "      <th>std</th>\n",
       "      <td>NaN</td>\n",
       "      <td>NaN</td>\n",
       "      <td>6.652841</td>\n",
       "      <td>0.500047</td>\n",
       "      <td>NaN</td>\n",
       "      <td>209.518652</td>\n",
       "    </tr>\n",
       "  </tbody>\n",
       "</table>\n",
       "</div>"
      ],
      "text/plain": [
       "                           Fecha Nac                      Fecha Ing  \\\n",
       "count                           3000                           3000   \n",
       "mean   1911-02-24 16:38:45.679713280  1942-07-05 12:48:12.392354304   \n",
       "min       1900-01-01 17:52:46.841249     1939-01-01 02:19:20.568542   \n",
       "25%    1905-08-21 11:37:07.985610240  1940-09-30 09:40:26.841845504   \n",
       "50%    1911-01-18 07:17:02.858473216  1942-07-16 00:26:12.363577088   \n",
       "75%    1916-08-24 02:23:48.343758080  1944-04-12 15:31:29.130606976   \n",
       "max       1921-12-28 17:13:28.122179     1945-12-30 15:14:17.882677   \n",
       "std                              NaN                            NaN   \n",
       "\n",
       "          Edad Ing  Estado Final                   Fecha Salida  \\\n",
       "count  3000.000000   3000.000000                           3000   \n",
       "mean     31.354667      0.506000  1945-04-23 17:08:21.992354176   \n",
       "min      18.000000      0.000000     1939-01-28 11:25:38.975196   \n",
       "25%      26.000000      0.000000  1943-02-06 20:17:31.110298496   \n",
       "50%      31.000000      1.000000  1945-04-25 14:05:37.639747968   \n",
       "75%      37.000000      1.000000  1947-03-15 22:05:05.094432256   \n",
       "max      45.000000      1.000000     1952-09-13 21:31:50.905551   \n",
       "std       6.652841      0.500047                            NaN   \n",
       "\n",
       "       Tiempo de Vida  \n",
       "count     1482.000000  \n",
       "mean       375.991228  \n",
       "min         10.000000  \n",
       "25%        191.250000  \n",
       "50%        392.000000  \n",
       "75%        556.000000  \n",
       "max        729.000000  \n",
       "std        209.518652  "
      ]
     },
     "execution_count": 48,
     "metadata": {},
     "output_type": "execute_result"
    }
   ],
   "source": [
    "soldados.describe()"
   ]
  },
  {
   "cell_type": "markdown",
   "id": "1d580d30-bf86-4f0a-8885-1160414d1496",
   "metadata": {},
   "source": [
    "## Resumen estadistico para variables categoricas"
   ]
  },
  {
   "cell_type": "markdown",
   "id": "07cb9029-24e8-48dd-89c1-ddd22c06aa48",
   "metadata": {},
   "source": [
    "### Resumen de rangos"
   ]
  },
  {
   "cell_type": "code",
   "execution_count": 52,
   "id": "a9d01ada-4554-4ea9-b9ca-a305f45842ed",
   "metadata": {},
   "outputs": [
    {
     "data": {
      "text/plain": [
       "Rango\n",
       "Teniente    446\n",
       "Sargento    445\n",
       "Capitán     441\n",
       "Mayor       428\n",
       "Cabo        426\n",
       "Mariscal    419\n",
       "Soldado     395\n",
       "Name: count, dtype: int64"
      ]
     },
     "execution_count": 52,
     "metadata": {},
     "output_type": "execute_result"
    }
   ],
   "source": [
    "soldados['Rango'].value_counts()"
   ]
  },
  {
   "cell_type": "markdown",
   "id": "20a1030b-1921-495f-9510-133369e0b9a7",
   "metadata": {},
   "source": [
    "### Resumen de soldados sobrevimientes"
   ]
  },
  {
   "cell_type": "code",
   "execution_count": 54,
   "id": "a598143d-c615-4eef-b75f-de60e2aa6272",
   "metadata": {},
   "outputs": [
    {
     "data": {
      "text/plain": [
       "Estado Final\n",
       "1    1518\n",
       "0    1482\n",
       "Name: count, dtype: int64"
      ]
     },
     "execution_count": 54,
     "metadata": {},
     "output_type": "execute_result"
    }
   ],
   "source": [
    "soldados['Estado Final'].value_counts()"
   ]
  },
  {
   "cell_type": "markdown",
   "id": "6cc85586-a674-4919-9abe-e37c54e5931b",
   "metadata": {},
   "source": [
    "## Histograma"
   ]
  },
  {
   "cell_type": "code",
   "execution_count": 56,
   "id": "a05b6b35-f0da-425a-9630-76751465a0fe",
   "metadata": {},
   "outputs": [
    {
     "data": {
      "image/png": "[encoded data removed]",
      "text/plain": [
       "<Figure size 1500x500 with 3 Axes>"
      ]
     },
     "metadata": {},
     "output_type": "display_data"
    }
   ],
   "source": [
    "#histograma para la edad \n",
    "plt.figure(figsize=(15, 5)) \n",
    "plt.subplot(1, 3, 1)  # Subplot 1 de 3\n",
    "plt.hist(soldados['Edad Ing'], bins=5, edgecolor='black')\n",
    "plt.title('Distribución de Edad de ingreso')\n",
    "plt.xlabel('Edad')\n",
    "plt.ylabel('Frecuencia')\n",
    "\n",
    "\n",
    "#histograma para el tiempo de vida\n",
    "\n",
    "plt.subplot(1, 3, 2)  # Subplot 1 de 3\n",
    "plt.hist(soldados['Tiempo de Vida'], bins=5, edgecolor='black')\n",
    "plt.title('Distribución de tiempo de vida en batalla')\n",
    "plt.xlabel('Tiempo')\n",
    "plt.ylabel('Frecuencia')\n",
    "\n",
    "plt.subplot(1, 3, 3)  # Subplot 1 de 3\n",
    "plt.hist(soldados['Estado Final'], bins=2, edgecolor='black')\n",
    "plt.title('Distribución de sobrevivientes')\n",
    "plt.xlabel('Sobrevivientes')\n",
    "plt.ylabel('Frecuencia')\n",
    "plt.show()\n",
    "\n"
   ]
  }
 ],
 "metadata": {
  "kernelspec": {
   "display_name": "Python 3 (ipykernel)",
   "language": "python",
   "name": "python3"
  },
  "language_info": {
   "codemirror_mode": {
    "name": "ipython",
    "version": 3
   },
   "file_extension": ".py",
   "mimetype": "text/x-python",
   "name": "python",
   "nbconvert_exporter": "python",
   "pygments_lexer": "ipython3",
   "version": "3.11.7"
  }
 },
 "nbformat": 4,
 "nbformat_minor": 5
}
