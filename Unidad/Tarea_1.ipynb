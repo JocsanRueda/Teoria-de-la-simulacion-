{
 "cells": [
  {
   "cell_type": "markdown",
   "id": "a46c9bf9-6769-4561-87a9-5703df15ec9d",
   "metadata": {},
   "source": [
    "# Tarea: Construcción de DataFrames y Análisis Estadístico con Pandas"
   ]
  },
  {
   "cell_type": "markdown",
   "id": "bc0d4c0a-9701-40d4-babb-fea5e94b03a5",
   "metadata": {},
   "source": [
    "## Tiempo medio de vida de un soldado en la segunda guerra mundial"
   ]
  },
  {
   "cell_type": "code",
   "execution_count": null,
   "id": "de47d87e-d7b9-45b6-8c2f-57814bcfe827",
   "metadata": {},
   "outputs": [],
   "source": [
    "import numpy as np\n",
    "import pandas as pd\n",
    "from datetime import datetime,timedelta\n",
    "import matplotlib.pyplot as plt"
   ]
  },
  {
   "cell_type": "markdown",
   "id": "e0b36f1c-242c-4a24-9b7e-95d9fc224ca9",
   "metadata": {},
   "source": [
    " ## Numero de muestras aleatorias"
   ]
  },
  {
   "cell_type": "code",
   "execution_count": null,
   "id": "fa78190f-19e9-4ce4-bb1f-ca03a138c10b",
   "metadata": {},
   "outputs": [],
   "source": [
    "limite=3000"
   ]
  },
  {
   "cell_type": "markdown",
   "id": "bf184dc0-0503-4214-aa51-f995ace3f6c0",
   "metadata": {},
   "source": [
    "### Funcion que genera fechas aleatorias entre n1 y n2"
   ]
  },
  {
   "cell_type": "code",
   "execution_count": 721,
   "id": "898277e0-d10d-4c93-9485-3143045e143e",
   "metadata": {},
   "outputs": [],
   "source": [
    "def random_date(n1,n2):\n",
    "    inicio = datetime(n1, 1, 1)\n",
    "    final =  datetime(n2, 12, 31)\n",
    "    return (inicio + (final - inicio) *np.random.rand())"
   ]
  },
  {
   "cell_type": "markdown",
   "id": "de200df3-6bb0-468e-bc88-3d036bb26436",
   "metadata": {},
   "source": [
    "### variables para el set\n",
    "* **edad de ingreso**: es la edad a la que ingreso al servicio militar puede variar entre los 18 y 40 años\n",
    "* **fecha de salida**: fehca de salida del ejercito aproximada  entre 2 y 6 años si sobrevivio, de lo contrario podrian ser dia o meses despues de su fecha de ingreso\n",
    "* **fecha_nac**: fecha de nacimiento, entre 1900, y 1925\n",
    "* **fecha_ing**: fecha de ingreso al servicio militar Entre 1939 y 1945.\n",
    "* **estado_final**: booleano que indica si el soldado fallecio o sobrevivo\n",
    "* **tiempo de vida**: tiempo que sobrevivio en batalla\n",
    "*  **rango** : rango del soldado"
   ]
  },
  {
   "cell_type": "code",
   "execution_count": 725,
   "id": "45ee9205-cf84-4423-abd5-32d4d3b853ab",
   "metadata": {},
   "outputs": [],
   "source": [
    "fecha_nac=[]\n",
    "fecha_ing=[]\n",
    "edad_ingreso=[]\n",
    "fecha_salida=[]\n",
    "\n",
    "estado_final=[]\n",
    "tiempo_vida=[]\n",
    "rango=[]"
   ]
  },
  {
   "cell_type": "markdown",
   "id": "3f388fa1-1ad2-4ed2-bbb2-f1d527950c45",
   "metadata": {},
   "source": [
    "## Creacion de los datos aleatorios\n",
    "$Edad_{\\text{ingreso}}=Año_{\\text{ingreso}}-Año_{\\text{nacimiento}}$\n",
    "\n",
    "\n",
    "$Fecha_{\\text{salida}}=$ $ \\left\\{ \\begin{array}{lcc} Fecha_{\\text{ingreso}}+k \\hspace{0.2cm} , k\\in [2 \\text{ años}, 7 \\text{ años}] & si & Estado_{\\text{final}} = 1 \\\\ \\\\ Fecha_{\\text{ingreso}}+k \\hspace{0.2cm} , k\\in [0 \\text{ años}, 2 \\text{ años}] & si & Estado_{\\text{final}} = 0\\end{array} \\right.$\n",
    "\n",
    "\n",
    "$Tiempo_{\\text{vida}}=$\n",
    "$ \\left\\{ \\begin{array}{lcc} Fecha_{\\text{salida}}-Fecha_{\\text{ingreso}} & si & Estado_{\\text{final}} = 1 \\\\ \\\\ \\text{NaN} & si & Estado_{\\text{final}} = 0\\end{array} \\right.$"
   ]
  },
  {
   "cell_type": "code",
   "execution_count": 727,
   "id": "a82a4ac4-0664-4df4-8fe6-4c950393cd58",
   "metadata": {},
   "outputs": [],
   "source": [
    "puestos=[ \"Soldado\", \"Cabo\", \"Sargento\", \"Teniente\", \"Capitán\", \"Mayor\",\"Mariscal\"]\n",
    "\n",
    "for i in range(limite):\n",
    "    \n",
    "    fecha_nac.append(random_date(1900,1921))\n",
    "    fecha_ing.append(random_date(1939,1945))\n",
    "    edad_ingreso.append( int(fecha_ing[i].year-fecha_nac[i].year))\n",
    "    rango.append(np.random.choice(puestos))\n",
    "    \n",
    "    \n",
    "    \n",
    "    estado_final.append(np.random.randint(0,2))\n",
    "    # 1 sobrevivo 0 facellio\n",
    "    if estado_final[i]:\n",
    "        fecha_salida.append( fecha_ing[i]+timedelta(days=np.random.randint(365*2,365*7)))\n",
    "        tiempo_vida.append(float('nan'))\n",
    "    else:\n",
    "        fecha_salida.append(fecha_ing[i]+timedelta(days=np.random.randint(10,365*2)))\n",
    "        tiempo_vida.append(fecha_salida[i]-fecha_ing[i])\n",
    "    \n",
    "    \n"
   ]
  },
  {
   "cell_type": "markdown",
   "id": "449b3ca9-cf96-429b-8500-897bec77b2ba",
   "metadata": {},
   "source": [
    "# Data Frame"
   ]
  },
  {
   "cell_type": "code",
   "execution_count": 729,
   "id": "d39cd3d7-fced-4898-a4a9-7b7d931c68d9",
   "metadata": {},
   "outputs": [
    {
     "data": {
      "text/html": [
       "<div>\n",
       "<style scoped>\n",
       "    .dataframe tbody tr th:only-of-type {\n",
       "        vertical-align: middle;\n",
       "    }\n",
       "\n",
       "    .dataframe tbody tr th {\n",
       "        vertical-align: top;\n",
       "    }\n",
       "\n",
       "    .dataframe thead th {\n",
       "        text-align: right;\n",
       "    }\n",
       "</style>\n",
       "<table border=\"1\" class=\"dataframe\">\n",
       "  <thead>\n",
       "    <tr style=\"text-align: right;\">\n",
       "      <th></th>\n",
       "      <th>Fecha Nac</th>\n",
       "      <th>Fecha Ing</th>\n",
       "      <th>Edad Ing</th>\n",
       "      <th>Rango</th>\n",
       "      <th>Estado Final</th>\n",
       "      <th>Fecha Salida</th>\n",
       "      <th>Tiempo de Vida</th>\n",
       "    </tr>\n",
       "  </thead>\n",
       "  <tbody>\n",
       "    <tr>\n",
       "      <th>0</th>\n",
       "      <td>1919-09-24 13:33:44.678322</td>\n",
       "      <td>1940-08-10 06:38:34.806843</td>\n",
       "      <td>21</td>\n",
       "      <td>Capitán</td>\n",
       "      <td>0</td>\n",
       "      <td>1940-10-08 06:38:34.806843</td>\n",
       "      <td>59.0</td>\n",
       "    </tr>\n",
       "    <tr>\n",
       "      <th>1</th>\n",
       "      <td>1912-04-02 10:28:15.911589</td>\n",
       "      <td>1942-06-08 17:53:40.418939</td>\n",
       "      <td>30</td>\n",
       "      <td>Mariscal</td>\n",
       "      <td>0</td>\n",
       "      <td>1942-09-29 17:53:40.418939</td>\n",
       "      <td>113.0</td>\n",
       "    </tr>\n",
       "    <tr>\n",
       "      <th>2</th>\n",
       "      <td>1903-10-04 06:24:09.815740</td>\n",
       "      <td>1943-06-01 03:08:44.800870</td>\n",
       "      <td>40</td>\n",
       "      <td>Capitán</td>\n",
       "      <td>0</td>\n",
       "      <td>1943-11-28 03:08:44.800870</td>\n",
       "      <td>180.0</td>\n",
       "    </tr>\n",
       "    <tr>\n",
       "      <th>3</th>\n",
       "      <td>1905-04-04 23:33:48.476005</td>\n",
       "      <td>1942-05-12 14:04:54.198493</td>\n",
       "      <td>37</td>\n",
       "      <td>Mariscal</td>\n",
       "      <td>1</td>\n",
       "      <td>1948-11-27 14:04:54.198493</td>\n",
       "      <td>NaN</td>\n",
       "    </tr>\n",
       "    <tr>\n",
       "      <th>4</th>\n",
       "      <td>1920-09-23 07:55:28.422479</td>\n",
       "      <td>1944-06-08 00:06:22.567541</td>\n",
       "      <td>24</td>\n",
       "      <td>Mayor</td>\n",
       "      <td>0</td>\n",
       "      <td>1944-12-29 00:06:22.567541</td>\n",
       "      <td>204.0</td>\n",
       "    </tr>\n",
       "    <tr>\n",
       "      <th>...</th>\n",
       "      <td>...</td>\n",
       "      <td>...</td>\n",
       "      <td>...</td>\n",
       "      <td>...</td>\n",
       "      <td>...</td>\n",
       "      <td>...</td>\n",
       "      <td>...</td>\n",
       "    </tr>\n",
       "    <tr>\n",
       "      <th>2995</th>\n",
       "      <td>1907-01-17 23:03:37.894481</td>\n",
       "      <td>1943-02-25 23:49:16.704273</td>\n",
       "      <td>36</td>\n",
       "      <td>Teniente</td>\n",
       "      <td>0</td>\n",
       "      <td>1943-08-19 23:49:16.704273</td>\n",
       "      <td>175.0</td>\n",
       "    </tr>\n",
       "    <tr>\n",
       "      <th>2996</th>\n",
       "      <td>1911-11-14 15:57:47.606374</td>\n",
       "      <td>1939-05-12 00:17:12.526613</td>\n",
       "      <td>28</td>\n",
       "      <td>Soldado</td>\n",
       "      <td>1</td>\n",
       "      <td>1945-03-18 00:17:12.526613</td>\n",
       "      <td>NaN</td>\n",
       "    </tr>\n",
       "    <tr>\n",
       "      <th>2997</th>\n",
       "      <td>1920-06-22 07:05:25.064572</td>\n",
       "      <td>1943-03-26 12:46:10.135751</td>\n",
       "      <td>23</td>\n",
       "      <td>Sargento</td>\n",
       "      <td>1</td>\n",
       "      <td>1949-11-23 12:46:10.135751</td>\n",
       "      <td>NaN</td>\n",
       "    </tr>\n",
       "    <tr>\n",
       "      <th>2998</th>\n",
       "      <td>1904-09-17 17:35:12.750717</td>\n",
       "      <td>1944-12-02 13:20:54.865864</td>\n",
       "      <td>40</td>\n",
       "      <td>Capitán</td>\n",
       "      <td>0</td>\n",
       "      <td>1946-08-18 13:20:54.865864</td>\n",
       "      <td>624.0</td>\n",
       "    </tr>\n",
       "    <tr>\n",
       "      <th>2999</th>\n",
       "      <td>1900-10-14 08:37:03.439791</td>\n",
       "      <td>1939-04-19 01:33:08.338225</td>\n",
       "      <td>39</td>\n",
       "      <td>Capitán</td>\n",
       "      <td>0</td>\n",
       "      <td>1940-02-13 01:33:08.338225</td>\n",
       "      <td>300.0</td>\n",
       "    </tr>\n",
       "  </tbody>\n",
       "</table>\n",
       "<p>3000 rows × 7 columns</p>\n",
       "</div>"
      ],
      "text/plain": [
       "                      Fecha Nac                  Fecha Ing  Edad Ing  \\\n",
       "0    1919-09-24 13:33:44.678322 1940-08-10 06:38:34.806843        21   \n",
       "1    1912-04-02 10:28:15.911589 1942-06-08 17:53:40.418939        30   \n",
       "2    1903-10-04 06:24:09.815740 1943-06-01 03:08:44.800870        40   \n",
       "3    1905-04-04 23:33:48.476005 1942-05-12 14:04:54.198493        37   \n",
       "4    1920-09-23 07:55:28.422479 1944-06-08 00:06:22.567541        24   \n",
       "...                         ...                        ...       ...   \n",
       "2995 1907-01-17 23:03:37.894481 1943-02-25 23:49:16.704273        36   \n",
       "2996 1911-11-14 15:57:47.606374 1939-05-12 00:17:12.526613        28   \n",
       "2997 1920-06-22 07:05:25.064572 1943-03-26 12:46:10.135751        23   \n",
       "2998 1904-09-17 17:35:12.750717 1944-12-02 13:20:54.865864        40   \n",
       "2999 1900-10-14 08:37:03.439791 1939-04-19 01:33:08.338225        39   \n",
       "\n",
       "         Rango  Estado Final               Fecha Salida  Tiempo de Vida  \n",
       "0      Capitán             0 1940-10-08 06:38:34.806843            59.0  \n",
       "1     Mariscal             0 1942-09-29 17:53:40.418939           113.0  \n",
       "2      Capitán             0 1943-11-28 03:08:44.800870           180.0  \n",
       "3     Mariscal             1 1948-11-27 14:04:54.198493             NaN  \n",
       "4        Mayor             0 1944-12-29 00:06:22.567541           204.0  \n",
       "...        ...           ...                        ...             ...  \n",
       "2995  Teniente             0 1943-08-19 23:49:16.704273           175.0  \n",
       "2996   Soldado             1 1945-03-18 00:17:12.526613             NaN  \n",
       "2997  Sargento             1 1949-11-23 12:46:10.135751             NaN  \n",
       "2998   Capitán             0 1946-08-18 13:20:54.865864           624.0  \n",
       "2999   Capitán             0 1940-02-13 01:33:08.338225           300.0  \n",
       "\n",
       "[3000 rows x 7 columns]"
      ]
     },
     "execution_count": 729,
     "metadata": {},
     "output_type": "execute_result"
    }
   ],
   "source": [
    "datos={\n",
    "    \"Fecha Nac\":fecha_nac,\n",
    "    \"Fecha Ing\":fecha_ing,\n",
    "    \"Edad Ing\":edad_ingreso,\n",
    "    \"Rango\":rango,\n",
    "    \"Estado Final\":estado_final,\n",
    "    \"Fecha Salida\":fecha_salida,\n",
    "    \"Tiempo de Vida\":tiempo_vida,\n",
    "}\n",
    "\n",
    "soldados=pd.DataFrame(datos)\n",
    "soldados['Tiempo de Vida']=soldados['Tiempo de Vida'] / np.timedelta64(1, 'D')\n",
    "soldados"
   ]
  },
  {
   "cell_type": "code",
   "execution_count": 731,
   "id": "7f72445f-45c4-49db-82c9-8cc515ce03b8",
   "metadata": {},
   "outputs": [
    {
     "data": {
      "text/html": [
       "<div>\n",
       "<style scoped>\n",
       "    .dataframe tbody tr th:only-of-type {\n",
       "        vertical-align: middle;\n",
       "    }\n",
       "\n",
       "    .dataframe tbody tr th {\n",
       "        vertical-align: top;\n",
       "    }\n",
       "\n",
       "    .dataframe thead th {\n",
       "        text-align: right;\n",
       "    }\n",
       "</style>\n",
       "<table border=\"1\" class=\"dataframe\">\n",
       "  <thead>\n",
       "    <tr style=\"text-align: right;\">\n",
       "      <th></th>\n",
       "      <th>Fecha Nac</th>\n",
       "      <th>Fecha Ing</th>\n",
       "      <th>Edad Ing</th>\n",
       "      <th>Estado Final</th>\n",
       "      <th>Fecha Salida</th>\n",
       "      <th>Tiempo de Vida</th>\n",
       "    </tr>\n",
       "  </thead>\n",
       "  <tbody>\n",
       "    <tr>\n",
       "      <th>count</th>\n",
       "      <td>3000</td>\n",
       "      <td>3000</td>\n",
       "      <td>3000.00000</td>\n",
       "      <td>3000.000000</td>\n",
       "      <td>3000</td>\n",
       "      <td>1503.000000</td>\n",
       "    </tr>\n",
       "    <tr>\n",
       "      <th>mean</th>\n",
       "      <td>1911-01-18 03:16:22.516816896</td>\n",
       "      <td>1942-06-30 03:41:19.906035840</td>\n",
       "      <td>31.44000</td>\n",
       "      <td>0.499000</td>\n",
       "      <td>1945-03-30 16:35:34.306035840</td>\n",
       "      <td>363.821025</td>\n",
       "    </tr>\n",
       "    <tr>\n",
       "      <th>min</th>\n",
       "      <td>1900-01-04 04:57:47.601681</td>\n",
       "      <td>1939-01-02 14:48:51.918214</td>\n",
       "      <td>18.00000</td>\n",
       "      <td>0.000000</td>\n",
       "      <td>1939-03-10 10:59:46.412871</td>\n",
       "      <td>11.000000</td>\n",
       "    </tr>\n",
       "    <tr>\n",
       "      <th>25%</th>\n",
       "      <td>1905-07-24 11:59:28.573026304</td>\n",
       "      <td>1940-09-23 06:10:52.143332480</td>\n",
       "      <td>26.00000</td>\n",
       "      <td>0.000000</td>\n",
       "      <td>1943-02-02 13:12:07.819267584</td>\n",
       "      <td>180.000000</td>\n",
       "    </tr>\n",
       "    <tr>\n",
       "      <th>50%</th>\n",
       "      <td>1911-03-22 03:15:59.539823616</td>\n",
       "      <td>1942-06-24 06:59:56.391156096</td>\n",
       "      <td>32.00000</td>\n",
       "      <td>0.000000</td>\n",
       "      <td>1945-03-09 19:12:41.240444032</td>\n",
       "      <td>357.000000</td>\n",
       "    </tr>\n",
       "    <tr>\n",
       "      <th>75%</th>\n",
       "      <td>1916-07-14 23:23:14.572940544</td>\n",
       "      <td>1944-03-28 04:11:58.563426816</td>\n",
       "      <td>37.00000</td>\n",
       "      <td>1.000000</td>\n",
       "      <td>1947-02-12 18:15:55.389615488</td>\n",
       "      <td>546.000000</td>\n",
       "    </tr>\n",
       "    <tr>\n",
       "      <th>max</th>\n",
       "      <td>1921-12-25 07:30:23.562715</td>\n",
       "      <td>1945-12-30 08:02:04.159342</td>\n",
       "      <td>45.00000</td>\n",
       "      <td>1.000000</td>\n",
       "      <td>1952-11-05 18:14:49.840388</td>\n",
       "      <td>729.000000</td>\n",
       "    </tr>\n",
       "    <tr>\n",
       "      <th>std</th>\n",
       "      <td>NaN</td>\n",
       "      <td>NaN</td>\n",
       "      <td>6.61657</td>\n",
       "      <td>0.500082</td>\n",
       "      <td>NaN</td>\n",
       "      <td>209.632465</td>\n",
       "    </tr>\n",
       "  </tbody>\n",
       "</table>\n",
       "</div>"
      ],
      "text/plain": [
       "                           Fecha Nac                      Fecha Ing  \\\n",
       "count                           3000                           3000   \n",
       "mean   1911-01-18 03:16:22.516816896  1942-06-30 03:41:19.906035840   \n",
       "min       1900-01-04 04:57:47.601681     1939-01-02 14:48:51.918214   \n",
       "25%    1905-07-24 11:59:28.573026304  1940-09-23 06:10:52.143332480   \n",
       "50%    1911-03-22 03:15:59.539823616  1942-06-24 06:59:56.391156096   \n",
       "75%    1916-07-14 23:23:14.572940544  1944-03-28 04:11:58.563426816   \n",
       "max       1921-12-25 07:30:23.562715     1945-12-30 08:02:04.159342   \n",
       "std                              NaN                            NaN   \n",
       "\n",
       "         Edad Ing  Estado Final                   Fecha Salida  Tiempo de Vida  \n",
       "count  3000.00000   3000.000000                           3000     1503.000000  \n",
       "mean     31.44000      0.499000  1945-03-30 16:35:34.306035840      363.821025  \n",
       "min      18.00000      0.000000     1939-03-10 10:59:46.412871       11.000000  \n",
       "25%      26.00000      0.000000  1943-02-02 13:12:07.819267584      180.000000  \n",
       "50%      32.00000      0.000000  1945-03-09 19:12:41.240444032      357.000000  \n",
       "75%      37.00000      1.000000  1947-02-12 18:15:55.389615488      546.000000  \n",
       "max      45.00000      1.000000     1952-11-05 18:14:49.840388      729.000000  \n",
       "std       6.61657      0.500082                            NaN      209.632465  "
      ]
     },
     "execution_count": 731,
     "metadata": {},
     "output_type": "execute_result"
    }
   ],
   "source": [
    "soldados.describe()"
   ]
  },
  {
   "cell_type": "markdown",
   "id": "1d580d30-bf86-4f0a-8885-1160414d1496",
   "metadata": {},
   "source": [
    "## Resumen estadistico para variables categoricas"
   ]
  },
  {
   "cell_type": "markdown",
   "id": "07cb9029-24e8-48dd-89c1-ddd22c06aa48",
   "metadata": {},
   "source": [
    "### Resumen de rangos"
   ]
  },
  {
   "cell_type": "code",
   "execution_count": 733,
   "id": "a9d01ada-4554-4ea9-b9ca-a305f45842ed",
   "metadata": {},
   "outputs": [
    {
     "data": {
      "text/plain": [
       "Rango\n",
       "Teniente    459\n",
       "Cabo        449\n",
       "Mayor       438\n",
       "Capitán     433\n",
       "Sargento    414\n",
       "Mariscal    404\n",
       "Soldado     403\n",
       "Name: count, dtype: int64"
      ]
     },
     "execution_count": 733,
     "metadata": {},
     "output_type": "execute_result"
    }
   ],
   "source": [
    "soldados['Rango'].value_counts()"
   ]
  },
  {
   "cell_type": "markdown",
   "id": "20a1030b-1921-495f-9510-133369e0b9a7",
   "metadata": {},
   "source": [
    "### Resumen de soldados sobrevimientes"
   ]
  },
  {
   "cell_type": "code",
   "execution_count": 735,
   "id": "a598143d-c615-4eef-b75f-de60e2aa6272",
   "metadata": {},
   "outputs": [
    {
     "data": {
      "text/plain": [
       "Estado Final\n",
       "0    1503\n",
       "1    1497\n",
       "Name: count, dtype: int64"
      ]
     },
     "execution_count": 735,
     "metadata": {},
     "output_type": "execute_result"
    }
   ],
   "source": [
    "soldados['Estado Final'].value_counts()"
   ]
  },
  {
   "cell_type": "markdown",
   "id": "6cc85586-a674-4919-9abe-e37c54e5931b",
   "metadata": {},
   "source": [
    "## Histograma"
   ]
  },
  {
   "cell_type": "code",
   "execution_count": 737,
   "id": "a05b6b35-f0da-425a-9630-76751465a0fe",
   "metadata": {},
   "outputs": [
    {
     "data": {
      "image/png": "[encoded data removed]",
      "text/plain": [
       "<Figure size 1500x500 with 3 Axes>"
      ]
     },
     "metadata": {},
     "output_type": "display_data"
    }
   ],
   "source": [
    "#histograma para la edad \n",
    "plt.figure(figsize=(15, 5)) \n",
    "plt.subplot(1, 3, 1)  # Subplot 1 de 3\n",
    "plt.hist(soldados['Edad Ing'], bins=5, edgecolor='black')\n",
    "plt.title('Distribución de Edad de ingreso')\n",
    "plt.xlabel('Edad')\n",
    "plt.ylabel('Frecuencia')\n",
    "\n",
    "\n",
    "#histograma para el tiempo de vida\n",
    "\n",
    "plt.subplot(1, 3, 2)  # Subplot 1 de 3\n",
    "plt.hist(soldados['Tiempo de Vida'], bins=5, edgecolor='black')\n",
    "plt.title('Distribución de tiempo de vida en batalla')\n",
    "plt.xlabel('Tiempo')\n",
    "plt.ylabel('Frecuencia')\n",
    "\n",
    "plt.subplot(1, 3, 3)  # Subplot 1 de 3\n",
    "plt.hist(soldados['Estado Final'], bins=2, edgecolor='black')\n",
    "plt.title('Distribución de sobrevivientes')\n",
    "plt.xlabel('Sobrevivientes')\n",
    "plt.ylabel('Frecuencia')\n",
    "plt.show()\n",
    "\n"
   ]
  }
 ],
 "metadata": {
  "kernelspec": {
   "display_name": "Python 3 (ipykernel)",
   "language": "python",
   "name": "python3"
  },
  "language_info": {
   "codemirror_mode": {
    "name": "ipython",
    "version": 3
   },
   "file_extension": ".py",
   "mimetype": "text/x-python",
   "name": "python",
   "nbconvert_exporter": "python",
   "pygments_lexer": "ipython3",
   "version": "3.11.7"
  }
 },
 "nbformat": 4,
 "nbformat_minor": 5
}
