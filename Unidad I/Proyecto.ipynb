{
 "cells": [
  {
   "cell_type": "markdown",
   "id": "e7ae771b-8a6c-4c42-aa37-d0f367e784f2",
   "metadata": {},
   "source": [
    "# Modelos de datos en el dataset\n",
    " - Unique : ID único de 16 caracteres.\n",
    " - category : se debe proporcionar los valores categoricos\n",
    " - foreign : se debe espesificar el dataset  y  la columna dataset.colum\n",
    " - date: fecha maxima:\n",
    " - numeric: tipo de dato numerico\n",
    "\n",
    "**random**: Esto significa que el dataset tendrá como número máximo de\n",
    "registros la cantidad de valores en la columna con el mayor número de\n",
    "valores.\n",
    "\n"
   ]
  },
  {
   "cell_type": "code",
   "execution_count": 14,
   "id": "6ec93753-f79b-44a4-b303-55a414a1e9ce",
   "metadata": {},
   "outputs": [],
   "source": [
    "d1 = {\n",
    "\"ds\": \"dataset\",\n",
    "\"columns\": [\n",
    "{\n",
    "\"name\": \"area\",\n",
    "\"type\": \"category\",\n",
    "\"values\": [\"TI\", \"FIN\", \"HR\"]\n",
    "},\n",
    "{\n",
    "\"name\": \"id\",\n",
    "\"type\": \"unique\"\n",
    "}\n",
    "],\n",
    "\"random\": False\n",
    "}"
   ]
  },
  {
   "cell_type": "code",
   "execution_count": 61,
   "id": "bac401f8-181b-441e-9ddd-dac6eeb50983",
   "metadata": {},
   "outputs": [],
   "source": [
    "d4 = {\n",
    "\"ds\": \"dataset\",\n",
    "\"columns\": [\n",
    "{\n",
    "\"name\": \"Fecha\",\n",
    "\"type\": \"date\",\n",
    "\"values\": {\n",
    "\"min\": \"2024-01-01\",\n",
    "\"max\": \"2024-02-28\"\n",
    "}\n",
    "},\n",
    "{\n",
    "\"name\": \"area\",\n",
    "\"type\": \"category\",\n",
    "\"values\": [\"TI\", \"FIN\", \"HR\"]\n",
    "}\n",
    "],\n",
    "\"random\": False\n",
    "}"
   ]
  },
  {
   "cell_type": "code",
   "execution_count": 16,
   "id": "76ec6598-639d-49f7-84a2-bde44be4cea3",
   "metadata": {},
   "outputs": [],
   "source": [
    "d2 = {\n",
    "\"ds\": \"dataset2\",\n",
    "\"columns\": [\n",
    "{\n",
    "\"name\": \"id\",\n",
    "\"type\": \"unique\"\n",
    "},\n",
    "{\n",
    "\"name\": \"area\",\n",
    "\"type\": \"foreign\",\n",
    "\"values\": \"dataset1.area\"\n",
    "},\n",
    "{\n",
    "\"name\": \"subarea\",\n",
    "\"type\": \"category\",\n",
    "\"values\": [\"SA1\", \"SA2\", \"SA3\", \"SA4\"]\n",
    "}\n",
    "],\n",
    "\"random\": False\n",
    "}"
   ]
  },
  {
   "cell_type": "code",
   "execution_count": 22,
   "id": "4752789d-801e-444c-b245-fde3cfdb0373",
   "metadata": {},
   "outputs": [],
   "source": [
    "d3 = {\n",
    "\"ds\": \"dataset3\",\n",
    "\"columns\": [\n",
    "{\n",
    "\"name\": \"id\",\n",
    "\"type\": \"unique\"\n",
    "},\n",
    "{\n",
    "\"name\": \"subarea\",\n",
    "\"type\": \"category\",\n",
    "\"values\": \"dataset2.id\"\n",
    "},\n",
    "{\n",
    "\"name\": \"income\",\n",
    "\"type\": \"numeric\",\n",
    "\"values\": {\"min\": None, \"max\": None}\n",
    "},\n",
    "{\n",
    "\"name\": \"goal\",\n",
    "\"type\": \"numeric\",\n",
    "\"values\": {\"min\": None, \"max\": None, \"std\": None,\n",
    "\"mean\": None}\n",
    "}\n",
    "],\n",
    "\"random\": True,\n",
    "\"random_rows\": 1000\n",
    "}\n",
    "    \n"
   ]
  },
  {
   "cell_type": "markdown",
   "id": "5b3cb963-295d-4120-b666-6ebd26a095be",
   "metadata": {},
   "source": [
    "# Funcion Build_dataframes\n",
    "esta funcion se encarga de generar una lista de dataframes en funcion de la configuraciones que se le pasaen como parametro\n",
    "\n",
    "'recibe una lista como parametro'\n"
   ]
  },
  {
   "cell_type": "code",
   "execution_count": 111,
   "id": "e09351b7-bec3-4083-81be-224f083c5cba",
   "metadata": {},
   "outputs": [],
   "source": [
    "from datetime import datetime\n",
    "def findMax(config):\n",
    "    max=0\n",
    "   \n",
    "    for column in config[\"columns\"]:\n",
    "        if column[\"type\"] in [\"date\",\"numeric\",\"category\"]:\n",
    "            if column[\"type\"]==\"date\":\n",
    "                dateMin=datetime.strptime(column[\"values\"][\"min\"],'%Y-%m-%d')\n",
    "                dateMax=datetime.strptime(column[\"values\"][\"max\"],'%Y-%m-%d')\n",
    "                days=(dateMax-dateMin).days\n",
    "                if(days>max):\n",
    "                    max=days\n",
    "            elif column[\"type\"]==\"category\" :\n",
    "                if len(column[\"values\"])>max:\n",
    "                    max=len(column[\"values\"])\n",
    "            else:\n",
    "                if column[\"values\"][\"max\"]!=None and column[\"values\"][\"max\"]>max:\n",
    "                    max=column[\"values\"][\"max\"]\n",
    "                \n",
    "    return max\n",
    "\n",
    "                \n",
    "\n",
    "                \n",
    "                \n",
    "            \n",
    "        \n",
    "        \n",
    "    \n",
    "    \n",
    "    "
   ]
  },
  {
   "cell_type": "code",
   "execution_count": 113,
   "id": "c5d197a2-d9f5-4ad7-949c-6a187e880d99",
   "metadata": {},
   "outputs": [
    {
     "data": {
      "text/plain": [
       "11"
      ]
     },
     "execution_count": 113,
     "metadata": {},
     "output_type": "execute_result"
    }
   ],
   "source": [
    "findMax(d3)"
   ]
  },
  {
   "cell_type": "code",
   "execution_count": 36,
   "id": "10bb5b78-ddec-4bb1-87bd-0c0cd7e57080",
   "metadata": {},
   "outputs": [
    {
     "data": {
      "text/plain": [
       "25"
      ]
     },
     "execution_count": 36,
     "metadata": {},
     "output_type": "execute_result"
    }
   ],
   "source": [
    "from datetime import date\n",
    "\n",
    "fecha1 = date(2022, 5, 21)\n",
    "fecha2 = date(2022, 5, 16)\n",
    "diferencia = fecha1 - fecha2\n",
    "diferencia.days*5"
   ]
  },
  {
   "cell_type": "code",
   "execution_count": 32,
   "id": "4730b990-d7c1-43c9-9cc1-d6c9c3dac9f7",
   "metadata": {},
   "outputs": [
    {
     "name": "stdout",
     "output_type": "stream",
     "text": [
      "helo\n",
      "helo\n",
      "helo\n",
      "helo\n",
      "helo\n",
      "helo\n",
      "helo\n",
      "helo\n",
      "helo\n"
     ]
    }
   ],
   "source": [
    "config_list=[d1,d2,d3]\n",
    "\n",
    "for config in config_list:\n",
    "\n",
    "    for colum in config[\"columns\"]: \n",
    "        if colum[\"type\"] in [\"unique\",\"category\",\"foreign\",\"date\",\"numeric\"]:\n",
    "            if(colum[\"type\"]==\"unique\"):\n",
    "        \n",
    "        "
   ]
  }
 ],
 "metadata": {
  "kernelspec": {
   "display_name": "Python 3 (ipykernel)",
   "language": "python",
   "name": "python3"
  },
  "language_info": {
   "codemirror_mode": {
    "name": "ipython",
    "version": 3
   },
   "file_extension": ".py",
   "mimetype": "text/x-python",
   "name": "python",
   "nbconvert_exporter": "python",
   "pygments_lexer": "ipython3",
   "version": "3.11.7"
  }
 },
 "nbformat": 4,
 "nbformat_minor": 5
}
