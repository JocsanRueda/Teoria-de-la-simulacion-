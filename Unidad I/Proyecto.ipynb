{
 "cells": [
  {
   "cell_type": "markdown",
   "id": "e7ae771b-8a6c-4c42-aa37-d0f367e784f2",
   "metadata": {},
   "source": [
    "# Modelos de datos en el dataset\n",
    " - Unique : ID único de 16 caracteres.\n",
    " - category : se debe proporcionar los valores categoricos\n",
    " - foreign : se debe espesificar el dataset  y  la columna dataset.colum\n",
    " - date: fecha maxima:\n",
    " - numeric: tipo de dato numerico\n",
    "\n",
    "**random**: Esto significa que el dataset tendrá como número máximo de\n",
    "registros la cantidad de valores en la columna con el mayor número de\n",
    "valores.\n",
    "\n"
   ]
  },
  {
   "cell_type": "code",
   "execution_count": 914,
   "id": "b6b4ebbd-fb9d-4277-b8ec-94d578faf335",
   "metadata": {},
   "outputs": [],
   "source": [
    "import pandas as pd\n",
    "import numpy as np\n",
    "\n",
    "\n",
    "import random"
   ]
  },
  {
   "cell_type": "code",
   "execution_count": 882,
   "id": "6ec93753-f79b-44a4-b303-55a414a1e9ce",
   "metadata": {},
   "outputs": [],
   "source": [
    "d1 = {\n",
    "\"ds\": \"dataset\",\n",
    "\"columns\": [\n",
    "{\n",
    "\"name\": \"area\",\n",
    "\"type\": \"category\",\n",
    "\"values\": [\"TI\", \"FIN\", \"HR\"]\n",
    "},\n",
    "{\n",
    "\"name\": \"id\",\n",
    "\"type\": \"unique\"\n",
    "}\n",
    "],\n",
    "\"random\": False\n",
    "}\n",
    "d4 = {\n",
    "\"ds\": \"dataset\",\n",
    "\"columns\": [\n",
    "{\n",
    "\"name\": \"Fecha\",\n",
    "\"type\": \"date\",\n",
    "\"values\": {\n",
    "\"min\": \"2024-01-01\",\n",
    "\"max\": \"2024-02-28\"\n",
    "}\n",
    "},\n",
    "{\n",
    "\"name\": \"area\",\n",
    "\"type\": \"category\",\n",
    "\"values\": [\"TI\", \"FIN\", \"HR\"]\n",
    "}\n",
    "],\n",
    "\"random\": False\n",
    "}\n",
    "d2 = {\n",
    "\"ds\": \"dataset2\",\n",
    "\"columns\": [\n",
    "{\n",
    "\"name\": \"id\",\n",
    "\"type\": \"unique\"\n",
    "},\n",
    "{\n",
    "\"name\": \"area\",\n",
    "\"type\": \"foreign\",\n",
    "\"values\": \"dataset1.area\"\n",
    "},\n",
    "{\n",
    "\"name\": \"subarea\",\n",
    "\"type\": \"category\",\n",
    "\"values\": [\"SA1\", \"SA2\", \"SA3\", \"SA4\"]\n",
    "}\n",
    "],\n",
    "\"random\": False\n",
    "}\n",
    "d3 = {\n",
    "\"ds\": \"dataset3\",\n",
    "\"columns\": [\n",
    "{\n",
    "\"name\": \"id\",\n",
    "\"type\": \"unique\"\n",
    "},\n",
    "{\n",
    "\"name\": \"subarea\",\n",
    "\"type\": \"category\",\n",
    "\"values\": \"dataset2.id\"\n",
    "},\n",
    "{\n",
    "\"name\": \"income\",\n",
    "\"type\": \"numeric\",\n",
    "\"values\": {\"min\": 10, \"max\": 20}\n",
    "},\n",
    "{\n",
    "\"name\": \"goal\",\n",
    "\"type\": \"numeric\",\n",
    "\"values\": {\"min\": 10, \"max\": 100, \"std\": 0.5,\n",
    "\"mean\": 110/2}\n",
    "}\n",
    "],\n",
    "\"random\": True,\n",
    "\"random_rows\": 1000\n",
    "}\n",
    "    \n"
   ]
  },
  {
   "cell_type": "markdown",
   "id": "28a54325-0632-4582-a32e-f98fa40b8d3a",
   "metadata": {},
   "source": [
    "# Funcion que calcula, el valor maximo en un objeto de configuracion"
   ]
  },
  {
   "cell_type": "code",
   "execution_count": 854,
   "id": "e09351b7-bec3-4083-81be-224f083c5cba",
   "metadata": {},
   "outputs": [],
   "source": [
    "from datetime import datetime\n",
    "def findMax(config):\n",
    "    max=0\n",
    "   \n",
    "    for column in config[\"columns\"] :\n",
    "        if column[\"type\"] in [\"date\",\"numeric\",\"category\"] and not config[\"random\"]:\n",
    "            if column[\"type\"]==\"date\":\n",
    "                dateMin=datetime.strptime(column[\"values\"][\"min\"],'%Y-%m-%d')\n",
    "                dateMax=datetime.strptime(column[\"values\"][\"max\"],'%Y-%m-%d')\n",
    "                days=(dateMax-dateMin).days\n",
    "                if(days>max):\n",
    "                    max=days\n",
    "            elif column[\"type\"]==\"category\" :\n",
    "                if len(column[\"values\"])>max:\n",
    "                    max=len(column[\"values\"])\n",
    "            else:\n",
    "                if column[\"values\"][\"max\"]!=None and column[\"values\"][\"max\"]>max:\n",
    "                    max=column[\"values\"][\"max\"]\n",
    "                \n",
    "                    \n",
    "                \n",
    "    return max\n",
    "\n",
    "                \n",
    "\n",
    "                \n",
    "                \n",
    "            \n",
    "        \n",
    "        \n",
    "        \n",
    "    \n",
    "    "
   ]
  },
  {
   "cell_type": "markdown",
   "id": "aa4811ac-611e-404f-bb5e-5b5c81772765",
   "metadata": {},
   "source": [
    "# Funcion generadora de id unicos"
   ]
  },
  {
   "cell_type": "code",
   "execution_count": 804,
   "id": "d5a7f7ee-f1a1-478e-ab2e-7aa00f6c991b",
   "metadata": {},
   "outputs": [],
   "source": [
    "import uuid\n",
    "\n",
    "def generateID(n):\n",
    "    list_id=[]\n",
    "    for i in range(n):\n",
    "        unique_id = uuid.uuid4().hex\n",
    "        unique_id[16:]\n",
    "        list_id.append(unique_id)\n",
    "    return list_id\n",
    "        "
   ]
  },
  {
   "cell_type": "markdown",
   "id": "6e0f15e9-9725-447d-ada7-96f596738f8c",
   "metadata": {},
   "source": [
    "# funcion generadora de fechas"
   ]
  },
  {
   "cell_type": "code",
   "execution_count": 834,
   "id": "2aee3984-4fe8-4ffc-b250-6017cd944380",
   "metadata": {},
   "outputs": [],
   "source": [
    "def get_random_dates( min , max , n ):\n",
    "    items = pd.date_range( start = min , end = max , freq = 'D' )\n",
    "    return random.choices( items , k=n )"
   ]
  },
  {
   "cell_type": "code",
   "execution_count": 818,
   "id": "aa937a16-244e-457e-a375-54c0d65bc850",
   "metadata": {},
   "outputs": [],
   "source": [
    "# funcion generadora de elementos categoricos aleatorios"
   ]
  },
  {
   "cell_type": "code",
   "execution_count": 832,
   "id": "c1239a86-220d-4f5a-b141-28935479d757",
   "metadata": {},
   "outputs": [],
   "source": [
    "def get_random_category(items,n):\n",
    "    return random.choices( items , k=n )"
   ]
  },
  {
   "cell_type": "markdown",
   "id": "ed33d390-1a4d-44f7-b8bf-c0927bf3abe2",
   "metadata": {},
   "source": [
    "# funcion normal truncada"
   ]
  },
  {
   "cell_type": "code",
   "execution_count": 906,
   "id": "e1f064a9-e365-4475-b587-24c63fee2871",
   "metadata": {},
   "outputs": [],
   "source": [
    "import numpy as np\n",
    "from scipy.stats import truncnorm\n",
    "def generate_truncated_normal_data(mean, std, min_val, max_val, size):\n",
    "    # Calcular los parámetros de la distribución normal truncada\n",
    "    a, b = (min_val - mean) / std, (max_val - mean) / std\n",
    "    data = truncnorm(a, b, loc=mean, scale=std).rvs(size)\n",
    "    return data"
   ]
  },
  {
   "cell_type": "markdown",
   "id": "61750929-bbef-4e01-8e94-bc310c64c4d4",
   "metadata": {},
   "source": [
    "# funcion simple normal"
   ]
  },
  {
   "cell_type": "code",
   "execution_count": 718,
   "id": "78c671e4-7cfc-4b1e-9879-41668b40ac36",
   "metadata": {},
   "outputs": [],
   "source": [
    "#funcion normal\n",
    "import numpy as np\n",
    "def simpleNormal(min,max,n):\n",
    "    list=[]\n",
    "    mean=(min+max)/2\n",
    "    std=(max-min)/6\n",
    "    return np.random.normal(mean,std,n)"
   ]
  },
  {
   "cell_type": "markdown",
   "id": "5b3cb963-295d-4120-b666-6ebd26a095be",
   "metadata": {},
   "source": [
    "# Funcion Build_dataframes\n",
    "esta funcion se encarga de generar una lista de dataframes en funcion de la configuraciones que se le pasaen como parametro\n",
    "\n",
    "'recibe una lista como parametro'\n"
   ]
  },
  {
   "cell_type": "code",
   "execution_count": 926,
   "id": "4730b990-d7c1-43c9-9cc1-d6c9c3dac9f7",
   "metadata": {},
   "outputs": [],
   "source": [
    "config_list=[d1,d2,d3]\n",
    "dataFrameList=[]\n",
    "for config in config_list:\n",
    "    dataElement={}\n",
    "   \n",
    "    if not config[\"random\"]:\n",
    "        size=findMax(config)\n",
    "    else:\n",
    "        size=config[\"random_rows\"]\n",
    "        \n",
    "    for column in config[\"columns\"]: \n",
    "        if column[\"type\"] in [\"unique\",\"category\",\"foreign\",\"date\",\"numeric\"]:\n",
    "            \n",
    "            if column[\"type\"]==\"unique\" :\n",
    "                dataElement[column[\"name\"]]=generateID(size)\n",
    "            elif column[\"type\"]== \"date\" :\n",
    "                dataElement[column[\"name\"]]=get_random_dates(column[\"min\"],column[\"max\"],size)\n",
    "            elif column[\"type\"]==\"category\" :\n",
    "                dataElement[column[\"name\"]]=get_random_category(column[\"values\"],size)\n",
    "            elif column[\"type\"]==\"numeric\":\n",
    "                if \"mean\" in column[\"values\"].keys():\n",
    "                    dataElement[column[\"name\"]]=generate_truncated_normal_data(\n",
    "                        column[\"values\"][\"mean\"],column[\"values\"][\"std\"],column[\"values\"][\"min\"],column[\"values\"][\"max\"],size)\n",
    "                else:\n",
    "                    dataElement[column[\"name\"]]=simpleNormal(column[\"values\"][\"min\"],column[\"values\"][\"max\"],size)\n",
    "    dataFrameList.append(pd.DataFrame(dataElement))\n",
    "\n",
    "\n",
    "                    \n",
    "                \n",
    "                    \n",
    "        \n",
    "        "
   ]
  }
 ],
 "metadata": {
  "kernelspec": {
   "display_name": "Python 3 (ipykernel)",
   "language": "python",
   "name": "python3"
  },
  "language_info": {
   "codemirror_mode": {
    "name": "ipython",
    "version": 3
   },
   "file_extension": ".py",
   "mimetype": "text/x-python",
   "name": "python",
   "nbconvert_exporter": "python",
   "pygments_lexer": "ipython3",
   "version": "3.11.7"
  }
 },
 "nbformat": 4,
 "nbformat_minor": 5
}
